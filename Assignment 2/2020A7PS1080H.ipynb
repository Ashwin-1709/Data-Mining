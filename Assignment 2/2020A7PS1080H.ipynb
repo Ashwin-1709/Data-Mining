{
 "cells": [
  {
   "cell_type": "markdown",
   "metadata": {},
   "source": [
    "Assignment - 2\n"
   ]
  },
  {
   "cell_type": "markdown",
   "metadata": {},
   "source": [
    "Q1. Drinks Dataset"
   ]
  },
  {
   "cell_type": "code",
   "execution_count": null,
   "metadata": {},
   "outputs": [],
   "source": [
    "import pandas as pd\n",
    "drinkDf = pd.read_csv(\"drinks.csv\")"
   ]
  },
  {
   "cell_type": "markdown",
   "metadata": {},
   "source": [
    "Q1. a) Which continent drinks more wine on an average?"
   ]
  },
  {
   "cell_type": "code",
   "execution_count": null,
   "metadata": {},
   "outputs": [],
   "source": [
    "t = drinkDf[\"continent\"].unique()\n",
    "npArr =  t[~pd.isnull(t)]\n",
    "continents = []\n",
    "for i in npArr :\n",
    "    continents.append(i)\n",
    "mean_arr = []\n",
    "for i in continents :\n",
    "    df = drinkDf[drinkDf['continent'].str.contains(i) == True]\n",
    "    mean_arr.append(df['wine_servings'].mean())\n",
    "df = drinkDf[drinkDf['continent'].isna()]\n",
    "mean_arr.append(df['wine_servings'].mean())\n",
    "continents.append('NA')\n",
    "idx = mean_arr.index(max(mean_arr))\n",
    "print(str(continents[idx]) + \" drinks more wine on an average\")"
   ]
  },
  {
   "cell_type": "markdown",
   "metadata": {},
   "source": [
    "Q1. b) For each continent print the statistics for Beer consumption."
   ]
  },
  {
   "cell_type": "code",
   "execution_count": null,
   "metadata": {},
   "outputs": [],
   "source": [
    "drinkDf['continent'] = drinkDf['continent'].fillna('NA')\n",
    "drinkDf.groupby('continent').beer_servings.describe()"
   ]
  },
  {
   "cell_type": "markdown",
   "metadata": {},
   "source": [
    "Q1. c)  Print the median alcohol consumption per continent for every column."
   ]
  },
  {
   "cell_type": "code",
   "execution_count": null,
   "metadata": {},
   "outputs": [],
   "source": [
    "drinkDf['continent'] = drinkDf['continent'].fillna('NA')\n",
    "drinkDf.groupby('continent').median()"
   ]
  },
  {
   "cell_type": "markdown",
   "metadata": {},
   "source": [
    "Q2. Euro 2021 football tournament dataset"
   ]
  },
  {
   "cell_type": "code",
   "execution_count": null,
   "metadata": {},
   "outputs": [],
   "source": [
    "Euro = pd.read_csv(\"Euro_2012_stats_TEAM.csv\")"
   ]
  },
  {
   "cell_type": "markdown",
   "metadata": {},
   "source": [
    "Q2. a) Find the teams who are participating in this tournament."
   ]
  },
  {
   "cell_type": "code",
   "execution_count": null,
   "metadata": {},
   "outputs": [],
   "source": [
    "Euro['Team']"
   ]
  },
  {
   "cell_type": "markdown",
   "metadata": {},
   "source": [
    "Q2. b) Find the shooting accuracy of all the teams that have scored more than 5 goals."
   ]
  },
  {
   "cell_type": "code",
   "execution_count": null,
   "metadata": {},
   "outputs": [],
   "source": [
    "shooting_acc = Euro[Euro['Goals'] > 5]\n",
    "shooting_acc[['Team','Goals','Shooting Accuracy']]"
   ]
  },
  {
   "cell_type": "markdown",
   "metadata": {},
   "source": [
    "Q2. c) Find the total number of goals scored in the tournament."
   ]
  },
  {
   "cell_type": "code",
   "execution_count": null,
   "metadata": {},
   "outputs": [],
   "source": [
    "goals = Euro['Goals'].sum()\n",
    "print(str(goals) + \" scored in the tournament.\")"
   ]
  },
  {
   "cell_type": "markdown",
   "metadata": {},
   "source": [
    "Q2. d) Sort the teams on the basis of goals scored(non-ascending order)"
   ]
  },
  {
   "cell_type": "code",
   "execution_count": null,
   "metadata": {},
   "outputs": [],
   "source": [
    "newDataFrame = Euro.copy()\n",
    "copyFrame = newDataFrame.sort_values(by='Goals' , ascending=False)\n",
    "copyFrame[['Team','Goals']]"
   ]
  },
  {
   "cell_type": "markdown",
   "metadata": {},
   "source": [
    "Q2. e) Find the team with the most number of red cards."
   ]
  },
  {
   "cell_type": "code",
   "execution_count": null,
   "metadata": {},
   "outputs": [],
   "source": [
    "redCardNum = Euro['Red Cards']\n",
    "teams = Euro['Team']\n",
    "print(teams[redCardNum.idxmax()])"
   ]
  },
  {
   "cell_type": "markdown",
   "metadata": {},
   "source": [
    "Q3. Tree Decision Classifier using numpy and pandas"
   ]
  },
  {
   "cell_type": "code",
   "execution_count": null,
   "metadata": {},
   "outputs": [],
   "source": [
    "import numpy as np\n",
    "import pandas as pd\n",
    "treeDf = pd.read_csv(\"wdbc.csv\" , header= None)\n",
    "col = treeDf.columns\n",
    "def swap(to , target):\n",
    "    treeDf[[col[to], col[target]]] = treeDf[[col[target], col[to]]]\n",
    "swap(1,31)\n"
   ]
  },
  {
   "cell_type": "code",
   "execution_count": null,
   "metadata": {},
   "outputs": [],
   "source": [
    "class Vertex :\n",
    "    def __init__(self, inx=None, ceiling=None, left=None, right=None, info_gain=None, value=None):\n",
    "        self.inx , self.ceiling , self.left , self.right , self.info_gain , self.value = inx , ceiling , left , right , info_gain , value"
   ]
  },
  {
   "cell_type": "code",
   "execution_count": null,
   "metadata": {},
   "outputs": [],
   "source": [
    "class DecisionTree():\n",
    "    def __init__(self, splits=2, max_depth=2):\n",
    "        self.start , self.splits , self.max_depth = None , splits , max_depth\n",
    "    def buildTree(self, dataset, height=0):\n",
    "        left, right = dataset[:,:-1], dataset[:,-1]\n",
    "        getans, attributes = np.shape(left)\n",
    "        if getans>=self.splits and height<=self.max_depth:\n",
    "            best_split = self.BestGainSplit(dataset, attributes)\n",
    "            if best_split[\"info_gain\"]>0:\n",
    "                l_child , r_child = self.buildTree(best_split[\"dataset_left\"], height+1) , self.buildTree(best_split[\"dataset_right\"], height+1)\n",
    "                return Vertex(best_split[\"inx\"], best_split[\"ceiling\"], l_child, r_child, best_split[\"info_gain\"])\n",
    "        leafNodeVal = self.reached_end(right)\n",
    "        return Vertex(value=leafNodeVal)\n",
    "    def BestGainSplit(self, dataset, attributes):\n",
    "        best_split , BestGainSoFar = {} , -float(\"inf\")\n",
    "        for inx in range(attributes):\n",
    "            possibleVals  = dataset[:, inx] \n",
    "            cutoffVal =  np.unique(possibleVals)\n",
    "            for ceiling in cutoffVal:\n",
    "                dataset_left, dataset_right = self.split(dataset, inx, ceiling) #split the dataset at this CutoffValue\n",
    "                if len(dataset_left)>0 and len(dataset_right)>0: #incase size is 0 for either we can't split here\n",
    "                    y, left_y, right_y = dataset[:, -1], dataset_left[:, -1], dataset_right[:, -1]\n",
    "                    GainATNode  = self.information_gain(y, left_y, right_y)\n",
    "                    if GainATNode > BestGainSoFar:\n",
    "                        best_split[\"inx\"] , best_split[\"ceiling\"] , best_split[\"dataset_left\"] , best_split[\"dataset_right\"] ,  best_split[\"info_gain\"] , BestGainSoFar = inx , ceiling , dataset_left , dataset_right , GainATNode  , GainATNode \n",
    "        return best_split\n",
    "    def split(self, dataset, inx, ceiling):\n",
    "        return np.array([row for row in dataset if row[inx]<=ceiling]), np.array([row for row in dataset if row[inx]>ceiling])\n",
    "    def information_gain(self, parent, l_child, r_child):  \n",
    "        return self.getGini(parent) - ((len(l_child)/len(parent))*self.getGini(l_child) + (len(r_child)/len(parent))*self.getGini(r_child))\n",
    "    def getGini(self, dataset):\n",
    "        UniqueList , sizeOfData , sum =  np.unique(dataset) , len(dataset) , 0\n",
    "        for probs in UniqueList :\n",
    "            newGiniProb = len(dataset[dataset == probs])/sizeOfData\n",
    "            sum += newGiniProb**2\n",
    "        return 1 - sum\n",
    "    def reached_end(self, df):  \n",
    "        df = list(df)\n",
    "        return max(df, key=df.count)  \n",
    "    def train(self, X, Y):\n",
    "        dataset = np.concatenate((X, Y), axis=1)\n",
    "        self.start = self.buildTree(dataset)\n",
    "    def AnswerByModel(self, X):\n",
    "        Answers = [self.Traverse(x, self.start) for x in X]\n",
    "        return Answers\n",
    "    def Traverse(self, x, tree):\n",
    "        if tree.value!=None: return tree.value\n",
    "        if x[tree.inx]<=tree.ceiling: return self.Traverse(x, tree.left)\n",
    "        else: return self.Traverse(x, tree.right)"
   ]
  },
  {
   "cell_type": "code",
   "execution_count": null,
   "metadata": {},
   "outputs": [],
   "source": [
    "rows = treeDf.iloc[: , :-1].values\n",
    "target = treeDf.iloc[:, -1].values.reshape(-1,1)\n"
   ]
  },
  {
   "cell_type": "code",
   "execution_count": null,
   "metadata": {},
   "outputs": [],
   "source": [
    "from sklearn.model_selection import train_test_split\n",
    "rows_train,rows_test , target_train, target_test = train_test_split(rows, target, test_size=.3, random_state=30)\n",
    "rows_test"
   ]
  },
  {
   "cell_type": "code",
   "execution_count": null,
   "metadata": {},
   "outputs": [],
   "source": [
    "Tree = DecisionTree(3,3)\n",
    "Tree.train(rows_train,target_train)"
   ]
  },
  {
   "cell_type": "code",
   "execution_count": null,
   "metadata": {},
   "outputs": [],
   "source": [
    "PredictionByModel = Tree.AnswerByModel(rows_test)\n",
    "matched = 0\n",
    "for i in range(len(PredictionByModel)) :\n",
    "    if PredictionByModel[i] == target_test[i] :\n",
    "        matched += 1\n",
    "accuracy = matched/len(PredictionByModel)\n",
    "print(\"Accuracy of the decision tree : \" , str(accuracy))"
   ]
  },
  {
   "cell_type": "markdown",
   "metadata": {},
   "source": [
    "Final Accuracy is 92.1875% on 1/3rd test tuples derived from main dataset."
   ]
  }
 ],
 "metadata": {
  "interpreter": {
   "hash": "b3ba2566441a7c06988d0923437866b63cedc61552a5af99d1f4fb67d367b25f"
  },
  "kernelspec": {
   "display_name": "Python 3.8.8 ('base')",
   "language": "python",
   "name": "python3"
  },
  "language_info": {
   "codemirror_mode": {
    "name": "ipython",
    "version": 3
   },
   "file_extension": ".py",
   "mimetype": "text/x-python",
   "name": "python",
   "nbconvert_exporter": "python",
   "pygments_lexer": "ipython3",
   "version": "3.8.8"
  },
  "orig_nbformat": 4
 },
 "nbformat": 4,
 "nbformat_minor": 2
}
