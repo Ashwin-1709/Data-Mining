{
 "cells": [
  {
   "cell_type": "code",
   "execution_count": 1,
   "metadata": {},
   "outputs": [],
   "source": [
    "import pandas as pd\n",
    "df = pd.read_csv(\"Cars.csv\")\n",
    "classification = df['clazz'].unique()"
   ]
  },
  {
   "cell_type": "code",
   "execution_count": 2,
   "metadata": {},
   "outputs": [],
   "source": [
    "from sklearn.model_selection import train_test_split\n",
    "train , test = train_test_split(df , test_size=0.2)"
   ]
  },
  {
   "cell_type": "code",
   "execution_count": 3,
   "metadata": {},
   "outputs": [
    {
     "name": "stdout",
     "output_type": "stream",
     "text": [
      "{'unacc': 0.7018813314037626, 'acc': 0.22214182344428365, 'vgood': 0.03762662807525326, 'good': 0.03835021707670044}\n"
     ]
    }
   ],
   "source": [
    "BaseClassProbability , num = {} , {}\n",
    "classification = df['clazz'].unique()\n",
    "for classes in classification : \n",
    "    BaseClassProbability[classes] = 0\n",
    "for col in train['clazz'] :\n",
    "    BaseClassProbability[col] += 1\n",
    "for classes in classification : \n",
    "    num[classes] = BaseClassProbability[classes]\n",
    "    BaseClassProbability[classes]/=len(train)\n",
    "print(BaseClassProbability)"
   ]
  },
  {
   "cell_type": "code",
   "execution_count": 4,
   "metadata": {},
   "outputs": [
    {
     "name": "stdout",
     "output_type": "stream",
     "text": [
      "['buying', 'maint', 'doors', 'persons', 'lug_boot', 'safety']\n"
     ]
    }
   ],
   "source": [
    "keys =  df.keys()\n",
    "cols = []\n",
    "for k in keys :\n",
    "    if k != 'clazz': cols.append(k)\n",
    "print(cols)"
   ]
  },
  {
   "cell_type": "code",
   "execution_count": 5,
   "metadata": {},
   "outputs": [],
   "source": [
    "attribute_probability = {}\n",
    "for name in cols :\n",
    "    attribute_probability[name] = {}\n",
    "    for classes in classification :\n",
    "        attribute_probability[name][classes] = {}\n",
    "    features = train[name].unique()\n",
    "    for i in features : \n",
    "        for classes in classification : attribute_probability[name][classes][i] = 0\n",
    "    for i in train.index :\n",
    "        attribute_probability[name][train['clazz'][i]][train[name][i]] += 1\n",
    "    for i in features : \n",
    "        for classes in classification : \n",
    "            attribute_probability[name][classes][i] = attribute_probability[name][classes][i]/num[classes]"
   ]
  },
  {
   "cell_type": "code",
   "execution_count": 9,
   "metadata": {},
   "outputs": [
    {
     "name": "stdout",
     "output_type": "stream",
     "text": [
      "{'buying': {'acc': {'high': 0.2899022801302932,\n",
      "                    'low': 0.23778501628664495,\n",
      "                    'med': 0.28338762214983715,\n",
      "                    'vhigh': 0.18892508143322476},\n",
      "            'good': {'high': 0.0,\n",
      "                     'low': 0.660377358490566,\n",
      "                     'med': 0.33962264150943394,\n",
      "                     'vhigh': 0.0},\n",
      "            'unacc': {'high': 0.2670103092783505,\n",
      "                      'low': 0.21443298969072164,\n",
      "                      'med': 0.22061855670103092,\n",
      "                      'vhigh': 0.2979381443298969},\n",
      "            'vgood': {'high': 0.0,\n",
      "                      'low': 0.5961538461538461,\n",
      "                      'med': 0.40384615384615385,\n",
      "                      'vhigh': 0.0}},\n",
      " 'doors': {'acc': {'2': 0.20195439739413681,\n",
      "                   '3': 0.2671009771986971,\n",
      "                   '4': 0.25732899022801303,\n",
      "                   '5more': 0.2736156351791531},\n",
      "           'good': {'2': 0.22641509433962265,\n",
      "                    '3': 0.24528301886792453,\n",
      "                    '4': 0.24528301886792453,\n",
      "                    '5more': 0.2830188679245283},\n",
      "           'unacc': {'2': 0.26597938144329897,\n",
      "                     '3': 0.25051546391752577,\n",
      "                     '4': 0.2463917525773196,\n",
      "                     '5more': 0.23711340206185566},\n",
      "           'vgood': {'2': 0.1346153846153846,\n",
      "                     '3': 0.21153846153846154,\n",
      "                     '4': 0.36538461538461536,\n",
      "                     '5more': 0.28846153846153844}},\n",
      " 'lug_boot': {'acc': {'big': 0.3745928338762215,\n",
      "                      'med': 0.34201954397394135,\n",
      "                      'small': 0.28338762214983715},\n",
      "              'good': {'big': 0.33962264150943394,\n",
      "                       'med': 0.33962264150943394,\n",
      "                       'small': 0.32075471698113206},\n",
      "              'unacc': {'big': 0.31030927835051547,\n",
      "                        'med': 0.31443298969072164,\n",
      "                        'small': 0.3752577319587629},\n",
      "              'vgood': {'big': 0.5961538461538461,\n",
      "                        'med': 0.40384615384615385,\n",
      "                        'small': 0.0}},\n",
      " 'maint': {'acc': {'high': 0.28338762214983715,\n",
      "                   'low': 0.23452768729641693,\n",
      "                   'med': 0.2996742671009772,\n",
      "                   'vhigh': 0.18241042345276873},\n",
      "           'good': {'high': 0.0,\n",
      "                    'low': 0.6792452830188679,\n",
      "                    'med': 0.32075471698113206,\n",
      "                    'vhigh': 0.0},\n",
      "           'unacc': {'high': 0.25773195876288657,\n",
      "                     'low': 0.23195876288659795,\n",
      "                     'med': 0.20309278350515464,\n",
      "                     'vhigh': 0.30721649484536084},\n",
      "           'vgood': {'high': 0.21153846153846154,\n",
      "                     'low': 0.40384615384615385,\n",
      "                     'med': 0.38461538461538464,\n",
      "                     'vhigh': 0.0}},\n",
      " 'persons': {'acc': {'2': 0.0,\n",
      "                     '4': 0.5146579804560261,\n",
      "                     'more': 0.48534201954397393},\n",
      "             'good': {'2': 0.0,\n",
      "                      '4': 0.5094339622641509,\n",
      "                      'more': 0.49056603773584906},\n",
      "             'unacc': {'2': 0.4896907216494845,\n",
      "                       '4': 0.2515463917525773,\n",
      "                       'more': 0.25876288659793817},\n",
      "             'vgood': {'2': 0.0,\n",
      "                       '4': 0.4423076923076923,\n",
      "                       'more': 0.5576923076923077}},\n",
      " 'safety': {'acc': {'high': 0.5407166123778502,\n",
      "                    'low': 0.0,\n",
      "                    'med': 0.4592833876221498},\n",
      "            'good': {'high': 0.4528301886792453,\n",
      "                     'low': 0.0,\n",
      "                     'med': 0.5471698113207547},\n",
      "            'unacc': {'high': 0.25051546391752577,\n",
      "                      'low': 0.46494845360824744,\n",
      "                      'med': 0.2845360824742268},\n",
      "            'vgood': {'high': 1.0, 'low': 0.0, 'med': 0.0}}}\n"
     ]
    }
   ],
   "source": [
    "from pprint import pprint\n",
    "pprint(attribute_probability)"
   ]
  },
  {
   "cell_type": "code",
   "execution_count": 7,
   "metadata": {},
   "outputs": [],
   "source": [
    "def BayesPredict(param):\n",
    "    maxscore , prediction = 0 , \"\"\n",
    "    for classes in classification :\n",
    "        score = BaseClassProbability[classes]\n",
    "        for name in cols : \n",
    "            score *= attribute_probability[name][classes][param[name]]\n",
    "        if score > maxscore : \n",
    "            maxscore = score\n",
    "            prediction = classes\n",
    "    return prediction"
   ]
  },
  {
   "cell_type": "code",
   "execution_count": 8,
   "metadata": {},
   "outputs": [
    {
     "name": "stdout",
     "output_type": "stream",
     "text": [
      "Accuracy of Naive Bayes  : 0.8583815028901735\n"
     ]
    }
   ],
   "source": [
    "acc = 0\n",
    "for i in range(len(test)) :\n",
    "    row = test.iloc[i]\n",
    "    prediction = BayesPredict(row)\n",
    "    if row['clazz'] == prediction : \n",
    "        acc += 1\n",
    "print(\"Accuracy of Naive Bayes  : \" + str(acc/len(test)))"
   ]
  }
 ],
 "metadata": {
  "interpreter": {
   "hash": "b3ba2566441a7c06988d0923437866b63cedc61552a5af99d1f4fb67d367b25f"
  },
  "kernelspec": {
   "display_name": "Python 3.8.8 ('base')",
   "language": "python",
   "name": "python3"
  },
  "language_info": {
   "codemirror_mode": {
    "name": "ipython",
    "version": 3
   },
   "file_extension": ".py",
   "mimetype": "text/x-python",
   "name": "python",
   "nbconvert_exporter": "python",
   "pygments_lexer": "ipython3",
   "version": "3.8.8"
  },
  "orig_nbformat": 4
 },
 "nbformat": 4,
 "nbformat_minor": 2
}
